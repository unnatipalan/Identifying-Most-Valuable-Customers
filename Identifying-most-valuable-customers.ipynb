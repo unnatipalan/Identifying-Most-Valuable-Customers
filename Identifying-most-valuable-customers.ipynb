{
 "cells": [
  {
   "cell_type": "markdown",
   "metadata": {},
   "source": [
    "# An approach to identifying the best customers\n",
    "\n",
    "Different businesses define best customers according to their business goals.\n",
    "\n",
    "For example, \n",
    "* a store has a total budget of 1000$ for discount coupons \n",
    "* must come up with an approach to identify their best customers during Christmas\n",
    "* the discount coupons will be distributed equally out of the budget\n",
    "\n",
    "The data set consists of a few thousand customer transactions over time."
   ]
  },
  {
   "cell_type": "code",
   "execution_count": 13,
   "metadata": {},
   "outputs": [],
   "source": [
    "import pandas as pd\n",
    "import datetime as dt"
   ]
  },
  {
   "cell_type": "code",
   "execution_count": 14,
   "metadata": {
    "scrolled": true
   },
   "outputs": [
    {
     "name": "stdout",
     "output_type": "stream",
     "text": [
      "<class 'pandas.core.frame.DataFrame'>\n",
      "RangeIndex: 125000 entries, 0 to 124999\n",
      "Data columns (total 3 columns):\n",
      "customer_id    125000 non-null object\n",
      "trans_date     125000 non-null datetime64[ns]\n",
      "tran_amount    125000 non-null int64\n",
      "dtypes: datetime64[ns](1), int64(1), object(1)\n",
      "memory usage: 2.9+ MB\n"
     ]
    }
   ],
   "source": [
    "#importing customer data with transaction dates and amounts\n",
    "data = pd.read_csv(\"rfm_xmas19.txt\", parse_dates=[\"trans_date\"])\n",
    "#parse_dates allows us to immediately set the appropriate date type to the selected columns\n",
    "data.info()\n",
    "#no missing values"
   ]
  },
  {
   "cell_type": "markdown",
   "metadata": {},
   "source": [
    "# Understanding Customer Churn\n",
    "In the case of subscription-based businesses, **customer churn** is an event when a customer unsubscribes. In this example, we define churned customers as those who have not made any transactions in the last three months.\n",
    "\n",
    "We will remove these churned customers and use only the remaining ones for our final goal of identifying the best customers."
   ]
  },
  {
   "cell_type": "code",
   "execution_count": 15,
   "metadata": {},
   "outputs": [
    {
     "data": {
      "text/plain": [
       "customer_id\n",
       "FM1112   2019-10-14\n",
       "FM1113   2019-11-09\n",
       "FM1114   2019-11-12\n",
       "FM1115   2019-12-05\n",
       "FM1116   2019-05-25\n",
       "Name: trans_date, dtype: datetime64[ns]"
      ]
     },
     "execution_count": 15,
     "metadata": {},
     "output_type": "execute_result"
    }
   ],
   "source": [
    "group_by_customer = data.groupby(\"customer_id\")\n",
    "\n",
    "#exploring the last transactions of customers\n",
    "last_transaction = group_by_customer[\"trans_date\"].max()\n",
    "last_transaction.head()"
   ]
  },
  {
   "cell_type": "code",
   "execution_count": 16,
   "metadata": {},
   "outputs": [
    {
     "data": {
      "text/plain": [
       "customer_id\n",
       "FM1112    1\n",
       "FM1113    0\n",
       "FM1114    0\n",
       "FM1115    0\n",
       "FM1116    1\n",
       "Name: churned, dtype: int64"
      ]
     },
     "execution_count": 16,
     "metadata": {},
     "output_type": "execute_result"
    }
   ],
   "source": [
    "#converting into dataframe \n",
    "best_churn = pd.DataFrame(last_transaction)\n",
    "\n",
    "#defining the cut off date as a date three months ago\n",
    "cutoff_day = dt.datetime(2019, 10, 16)\n",
    "\n",
    "#filtering out churned customers by assigning them a value of 0 if they havent had a transaction since cutoff_day\n",
    "best_churn[\"churned\"] = best_churn[\"trans_date\"].apply(\n",
    "    lambda date: 1 if date < cutoff_day else 0)\n",
    "\n",
    "#examining the new column\n",
    "best_churn[\"churned\"].head()"
   ]
  },
  {
   "cell_type": "markdown",
   "metadata": {},
   "source": [
    "# Ranking Mechanism\n",
    "\n",
    "Now that we have customers who have been active in the last three months, we need to design a **ranking mechanism**. \n",
    "\n",
    "For this exercise:\n",
    "* We will use a very simple weighted sum model to classify customers. \n",
    "* A score represents how valuable a customer is.\n",
    "\n",
    "Our formula to define the score of a customer is\n",
    "\n",
    "<blockquote> (1/2 * Number of purchases) + (1/2 * Total amount spent)</blockquote>\n",
    "\n",
    " \n",
    "We're going to use the groupby object group_by_customer we created to get the number of purchases and the total amount spent by each customer — the necessary components for this score."
   ]
  },
  {
   "cell_type": "code",
   "execution_count": 17,
   "metadata": {},
   "outputs": [],
   "source": [
    "best_churn[\"nr_of_transactions\"] = group_by_customer.size()\n",
    "best_churn[\"amount_spent\"] = group_by_customer.sum()\n",
    "#dropping trans_date since we have already used it to get our customers\n",
    "best_churn.drop(\"trans_date\", axis=\"columns\", inplace=True)"
   ]
  },
  {
   "cell_type": "markdown",
   "metadata": {},
   "source": [
    "# Feature Scaling \n",
    "While the above ranking mechanism takes both factors into consideration, the amount_spent feature has more weightage due to the amount in dollars (49-2933) being on a different scale than the nr_of_transactions (4-39).\n",
    "\n",
    "It is important to normalize the features into a single scale so that we can use both comparatively to define our metric."
   ]
  },
  {
   "cell_type": "code",
   "execution_count": 18,
   "metadata": {},
   "outputs": [
    {
     "data": {
      "text/html": [
       "<div>\n",
       "<style scoped>\n",
       "    .dataframe tbody tr th:only-of-type {\n",
       "        vertical-align: middle;\n",
       "    }\n",
       "\n",
       "    .dataframe tbody tr th {\n",
       "        vertical-align: top;\n",
       "    }\n",
       "\n",
       "    .dataframe thead th {\n",
       "        text-align: right;\n",
       "    }\n",
       "</style>\n",
       "<table border=\"1\" class=\"dataframe\">\n",
       "  <thead>\n",
       "    <tr style=\"text-align: right;\">\n",
       "      <th></th>\n",
       "      <th>churned</th>\n",
       "      <th>nr_of_transactions</th>\n",
       "      <th>amount_spent</th>\n",
       "      <th>scaled_tran</th>\n",
       "      <th>scaled_amount</th>\n",
       "      <th>score</th>\n",
       "    </tr>\n",
       "    <tr>\n",
       "      <th>customer_id</th>\n",
       "      <th></th>\n",
       "      <th></th>\n",
       "      <th></th>\n",
       "      <th></th>\n",
       "      <th></th>\n",
       "      <th></th>\n",
       "    </tr>\n",
       "  </thead>\n",
       "  <tbody>\n",
       "    <tr>\n",
       "      <td>FM1112</td>\n",
       "      <td>1</td>\n",
       "      <td>15</td>\n",
       "      <td>1012</td>\n",
       "      <td>0.314286</td>\n",
       "      <td>0.309986</td>\n",
       "      <td>31.213567</td>\n",
       "    </tr>\n",
       "    <tr>\n",
       "      <td>FM1113</td>\n",
       "      <td>0</td>\n",
       "      <td>20</td>\n",
       "      <td>1490</td>\n",
       "      <td>0.457143</td>\n",
       "      <td>0.481681</td>\n",
       "      <td>46.941195</td>\n",
       "    </tr>\n",
       "    <tr>\n",
       "      <td>FM1114</td>\n",
       "      <td>0</td>\n",
       "      <td>19</td>\n",
       "      <td>1432</td>\n",
       "      <td>0.428571</td>\n",
       "      <td>0.460848</td>\n",
       "      <td>44.470956</td>\n",
       "    </tr>\n",
       "    <tr>\n",
       "      <td>FM1115</td>\n",
       "      <td>0</td>\n",
       "      <td>22</td>\n",
       "      <td>1659</td>\n",
       "      <td>0.514286</td>\n",
       "      <td>0.542385</td>\n",
       "      <td>52.833539</td>\n",
       "    </tr>\n",
       "    <tr>\n",
       "      <td>FM1116</td>\n",
       "      <td>1</td>\n",
       "      <td>13</td>\n",
       "      <td>857</td>\n",
       "      <td>0.257143</td>\n",
       "      <td>0.254310</td>\n",
       "      <td>25.572660</td>\n",
       "    </tr>\n",
       "  </tbody>\n",
       "</table>\n",
       "</div>"
      ],
      "text/plain": [
       "             churned  nr_of_transactions  amount_spent  scaled_tran  \\\n",
       "customer_id                                                           \n",
       "FM1112             1                  15          1012     0.314286   \n",
       "FM1113             0                  20          1490     0.457143   \n",
       "FM1114             0                  19          1432     0.428571   \n",
       "FM1115             0                  22          1659     0.514286   \n",
       "FM1116             1                  13           857     0.257143   \n",
       "\n",
       "             scaled_amount      score  \n",
       "customer_id                            \n",
       "FM1112            0.309986  31.213567  \n",
       "FM1113            0.481681  46.941195  \n",
       "FM1114            0.460848  44.470956  \n",
       "FM1115            0.542385  52.833539  \n",
       "FM1116            0.254310  25.572660  "
      ]
     },
     "execution_count": 18,
     "metadata": {},
     "output_type": "execute_result"
    }
   ],
   "source": [
    "#scaling the nr_of_transactions\n",
    "best_churn[\"scaled_tran\"] = (best_churn[\"nr_of_transactions\"] \\\n",
    "                             - best_churn[\"nr_of_transactions\"].min()) \\\n",
    "                             / (best_churn[\"nr_of_transactions\"].max() \\\n",
    "                             - best_churn[\"nr_of_transactions\"].min())\n",
    "\n",
    "#scaling the amount_spent\n",
    "best_churn[\"scaled_amount\"] = (best_churn[\"amount_spent\"] \\\n",
    "                               -best_churn[\"amount_spent\"].min()) \\\n",
    "                               / (best_churn[\"amount_spent\"].max() \\\n",
    "                               - best_churn[\"amount_spent\"].min())\n",
    "\n",
    "#defining our score with the formula above\n",
    "best_churn[\"score\"] = 100*(.5*best_churn[\"scaled_tran\"] \\\n",
    "                           + .5*best_churn[\"scaled_amount\"])\n",
    "\n",
    "#checking out the score column\n",
    "best_churn.head()"
   ]
  },
  {
   "cell_type": "markdown",
   "metadata": {},
   "source": [
    "# Deciding on a threshold\n",
    "After assiging scores to the customers, the next step calls for deciding a threshold which would divide the best customers from the rest. Since we have a limited budget of 1000$ to distribute amongst the customers, we need to decide how many will get a coupon.\n",
    "\n",
    "For the purpose of our exercise, it is safe to assume a '30 percent' discount may be enticing. \n",
    "\n",
    "* We will find the mean of all transactions and calculate 30 percent from it. \n",
    "* We can then divide the budget of 1000$ by the value obtained above to get the number of coupons we will distribute. "
   ]
  },
  {
   "cell_type": "code",
   "execution_count": 20,
   "metadata": {},
   "outputs": [
    {
     "name": "stdout",
     "output_type": "stream",
     "text": [
      "Coupon amount = 19.4975736\n",
      "Number of Customers = 51.28843314123969\n"
     ]
    }
   ],
   "source": [
    "#obtaining 30% of the mean transaction amount\n",
    "coupon = data[\"tran_amount\"].mean()*0.3\n",
    "print(f'Coupon amount = {coupon}')\n",
    "#dividing the budget by it\n",
    "nr_of_customers = 1000/coupon\n",
    "print(f'Number of Customers = {nr_of_customers}')"
   ]
  },
  {
   "cell_type": "markdown",
   "metadata": {},
   "source": [
    "We will round off the coupon amount to 20 - which will get us the number of customers to be 50."
   ]
  },
  {
   "cell_type": "code",
   "execution_count": 21,
   "metadata": {},
   "outputs": [
    {
     "data": {
      "text/html": [
       "<div>\n",
       "<style scoped>\n",
       "    .dataframe tbody tr th:only-of-type {\n",
       "        vertical-align: middle;\n",
       "    }\n",
       "\n",
       "    .dataframe tbody tr th {\n",
       "        vertical-align: top;\n",
       "    }\n",
       "\n",
       "    .dataframe thead th {\n",
       "        text-align: right;\n",
       "    }\n",
       "</style>\n",
       "<table border=\"1\" class=\"dataframe\">\n",
       "  <thead>\n",
       "    <tr style=\"text-align: right;\">\n",
       "      <th></th>\n",
       "      <th>churned</th>\n",
       "      <th>nr_of_transactions</th>\n",
       "      <th>amount_spent</th>\n",
       "      <th>scaled_tran</th>\n",
       "      <th>scaled_amount</th>\n",
       "      <th>score</th>\n",
       "    </tr>\n",
       "    <tr>\n",
       "      <th>customer_id</th>\n",
       "      <th></th>\n",
       "      <th></th>\n",
       "      <th></th>\n",
       "      <th></th>\n",
       "      <th></th>\n",
       "      <th></th>\n",
       "    </tr>\n",
       "  </thead>\n",
       "  <tbody>\n",
       "    <tr>\n",
       "      <td>FM1112</td>\n",
       "      <td>1</td>\n",
       "      <td>15</td>\n",
       "      <td>1012</td>\n",
       "      <td>0.314286</td>\n",
       "      <td>0.309986</td>\n",
       "      <td>31.213567</td>\n",
       "    </tr>\n",
       "    <tr>\n",
       "      <td>FM1116</td>\n",
       "      <td>1</td>\n",
       "      <td>13</td>\n",
       "      <td>857</td>\n",
       "      <td>0.257143</td>\n",
       "      <td>0.254310</td>\n",
       "      <td>25.572660</td>\n",
       "    </tr>\n",
       "    <tr>\n",
       "      <td>FM1117</td>\n",
       "      <td>1</td>\n",
       "      <td>17</td>\n",
       "      <td>1185</td>\n",
       "      <td>0.371429</td>\n",
       "      <td>0.372126</td>\n",
       "      <td>37.177750</td>\n",
       "    </tr>\n",
       "    <tr>\n",
       "      <td>FM1123</td>\n",
       "      <td>1</td>\n",
       "      <td>19</td>\n",
       "      <td>1331</td>\n",
       "      <td>0.428571</td>\n",
       "      <td>0.424569</td>\n",
       "      <td>42.657020</td>\n",
       "    </tr>\n",
       "    <tr>\n",
       "      <td>FM1124</td>\n",
       "      <td>1</td>\n",
       "      <td>18</td>\n",
       "      <td>1127</td>\n",
       "      <td>0.400000</td>\n",
       "      <td>0.351293</td>\n",
       "      <td>37.564655</td>\n",
       "    </tr>\n",
       "  </tbody>\n",
       "</table>\n",
       "</div>"
      ],
      "text/plain": [
       "             churned  nr_of_transactions  amount_spent  scaled_tran  \\\n",
       "customer_id                                                           \n",
       "FM1112             1                  15          1012     0.314286   \n",
       "FM1116             1                  13           857     0.257143   \n",
       "FM1117             1                  17          1185     0.371429   \n",
       "FM1123             1                  19          1331     0.428571   \n",
       "FM1124             1                  18          1127     0.400000   \n",
       "\n",
       "             scaled_amount      score  \n",
       "customer_id                            \n",
       "FM1112            0.309986  31.213567  \n",
       "FM1116            0.254310  25.572660  \n",
       "FM1117            0.372126  37.177750  \n",
       "FM1123            0.424569  42.657020  \n",
       "FM1124            0.351293  37.564655  "
      ]
     },
     "execution_count": 21,
     "metadata": {},
     "output_type": "execute_result"
    }
   ],
   "source": [
    "#picking the top 50 customers with the best score\n",
    "top_50_churned = best_churn.loc[best_churn[\"churned\"] == 1].head(50)\n",
    "\n",
    "top_50_churned.head()"
   ]
  }
 ],
 "metadata": {
  "kernelspec": {
   "display_name": "Python 3",
   "language": "python",
   "name": "python3"
  },
  "language_info": {
   "codemirror_mode": {
    "name": "ipython",
    "version": 3
   },
   "file_extension": ".py",
   "mimetype": "text/x-python",
   "name": "python",
   "nbconvert_exporter": "python",
   "pygments_lexer": "ipython3",
   "version": "3.7.3"
  }
 },
 "nbformat": 4,
 "nbformat_minor": 4
}
